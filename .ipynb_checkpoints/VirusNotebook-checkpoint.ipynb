{
 "cells": [
  {
   "cell_type": "markdown",
   "metadata": {},
   "source": [
    "# Virus Viewer"
   ]
  },
  {
   "cell_type": "markdown",
   "metadata": {},
   "source": [
    "## Imports"
   ]
  },
  {
   "cell_type": "code",
   "execution_count": 27,
   "metadata": {},
   "outputs": [],
   "source": [
    "import pandas as pd\n",
    "import io\n",
    "import requests\n",
    "import pickle\n",
    "import numpy as np\n",
    "import matplotlib.pyplot as plt\n",
    "%matplotlib inline"
   ]
  },
  {
   "cell_type": "markdown",
   "metadata": {},
   "source": [
    "## Download Data\n",
    "#### NOTE: Set \"data_source\" to one of: \"download_us\", \"pre_us\", \"state_level\", or \"region_level\"\n",
    "\n",
    " 1. state_level or region_level\n",
    "    * download from: https://gis.cdc.gov/grasp/fluview/mortality.html and save it as: \"State_Custom_Data.csv\" or \"Region_Custom_Data.csv\"\n",
    " 3. download_us\n",
    "    * will download new data from: https://data.cdc.gov/api/views/hc4f-j6nb/rows.csv?accessType=DOWNLOAD&amp;bom=true&amp;format=true\n",
    " 4. pre_us\n",
    "    * use on downloaded US level data"
   ]
  },
  {
   "cell_type": "code",
   "execution_count": 28,
   "metadata": {},
   "outputs": [],
   "source": [
    "data_source = \"state_level\"\n",
    "\n",
    "if data_source == \"state_level\":\n",
    "    c = pd.read_csv('./State_Custom_Data.csv')\n",
    "if data_source == \"region_level\":\n",
    "    c = pd.read_csv('./State_Custom_Data.csv')\n",
    "if data_source == \"download_us\":\n",
    "    url = \"https://data.cdc.gov/api/views/hc4f-j6nb/rows.csv?accessType=DOWNLOAD&amp;bom=true&amp;format=true\"\n",
    "    s = requests.get(url).content\n",
    "    c = pd.read_csv(io.StringIO(s.decode('utf-8')))\n",
    "    pickle.dump(c, open('fluView.pcl', 'wb'))\n",
    "if data_source == \"pre_us\":\n",
    "    c = pickle.load(open('fluView.pcl', 'rb'))"
   ]
  },
  {
   "cell_type": "markdown",
   "metadata": {},
   "source": [
    "## Get rid of the weird way they put NaN's"
   ]
  },
  {
   "cell_type": "code",
   "execution_count": 29,
   "metadata": {},
   "outputs": [],
   "source": [
    "c = c.replace('Insufficient Data', np.nan)"
   ]
  },
  {
   "cell_type": "markdown",
   "metadata": {},
   "source": [
    "## Make lists of states and seasons"
   ]
  },
  {
   "cell_type": "code",
   "execution_count": 30,
   "metadata": {},
   "outputs": [],
   "source": [
    "sub_areas = []\n",
    "seasons = []\n",
    "for i in c['SUB AREA']:\n",
    "    if i not in sub_areas:\n",
    "        sub_areas.append(i)\n",
    "for j in c['SEASON']:\n",
    "    if j not in seasons:\n",
    "        seasons.append(j)"
   ]
  },
  {
   "cell_type": "markdown",
   "metadata": {},
   "source": [
    "## Look at what we've got"
   ]
  },
  {
   "cell_type": "code",
   "execution_count": 32,
   "metadata": {},
   "outputs": [
    {
     "data": {
      "text/plain": [
       "Index(['AREA', 'SUB AREA', 'AGE GROUP', 'SEASON', 'WEEK', 'PERCENT P&I',\n",
       "       'NUM INFLUENZA DEATHS', 'NUM PNEUMONIA DEATHS', 'TOTAL DEATHS',\n",
       "       'PERCENT COMPLETE'],\n",
       "      dtype='object')"
      ]
     },
     "execution_count": 32,
     "metadata": {},
     "output_type": "execute_result"
    }
   ],
   "source": [
    "c.keys()"
   ]
  },
  {
   "cell_type": "code",
   "execution_count": 33,
   "metadata": {},
   "outputs": [
    {
     "data": {
      "text/plain": [
       "['2019-20', '2018-19', '2017-18']"
      ]
     },
     "execution_count": 33,
     "metadata": {},
     "output_type": "execute_result"
    }
   ],
   "source": [
    "seasons"
   ]
  },
  {
   "cell_type": "markdown",
   "metadata": {},
   "source": [
    "## Some massaging"
   ]
  },
  {
   "cell_type": "code",
   "execution_count": 50,
   "metadata": {},
   "outputs": [],
   "source": [
    "float_list = ['WEEK', 'PERCENT P&I', 'NUM INFLUENZA DEATHS',\n",
    "              'NUM PNEUMONIA DEATHS', 'TOTAL DEATHS', 'PERCENT COMPLETE']\n",
    "\n",
    "for i in float_list:\n",
    "    c[i] = pd.to_numeric(c[i], errors='coerce')\n",
    "\n",
    "c = c[c['WEEK'] <= 15]"
   ]
  },
  {
   "cell_type": "code",
   "execution_count": 55,
   "metadata": {},
   "outputs": [
    {
     "data": {
      "text/plain": [
       "425.4642857142857"
      ]
     },
     "execution_count": 55,
     "metadata": {},
     "output_type": "execute_result"
    }
   ],
   "source": [
    "twnty = c[c['SEASON'].str.endswith(\"20\")]\n",
    "nineteen = c[c['SEASON'].str.endswith(\"19\")]\n",
    "eighteen = c[c['SEASON'].str.endswith(\"18\")]\n",
    "\n",
    "# Do this with all weeks:\n",
    "twnty_mean_series = np.mean(twnty['TOTAL DEATHS'][c['WEEK'] == 1])\n",
    "# Use numpy.append(M, a)"
   ]
  },
  {
   "cell_type": "code",
   "execution_count": 26,
   "metadata": {},
   "outputs": [
    {
     "name": "stdout",
     "output_type": "stream",
     "text": [
      "       AREA SUB AREA AGE GROUP   SEASON  WEEK  PERCENT P&I  \\\n",
      "13    State  Alabama       All  2019-20     1          6.6   \n",
      "14    State  Alabama       All  2019-20     2          8.1   \n",
      "15    State  Alabama       All  2019-20     3          6.6   \n",
      "16    State  Alabama       All  2019-20     4          6.9   \n",
      "17    State  Alabama       All  2019-20     5          6.6   \n",
      "18    State  Alabama       All  2019-20     6          6.8   \n",
      "19    State  Alabama       All  2019-20     7          7.8   \n",
      "20    State  Alabama       All  2019-20     8          7.2   \n",
      "21    State  Alabama       All  2019-20     9          7.1   \n",
      "22    State  Alabama       All  2019-20    10          6.7   \n",
      "23    State  Alabama       All  2019-20    11          5.9   \n",
      "24    State  Alabama       All  2019-20    12          7.7   \n",
      "25    State  Alabama       All  2019-20    13          7.9   \n",
      "26    State  Alabama       All  2019-20    14          6.5   \n",
      "27    State  Alabama       All  2019-20    15          7.6   \n",
      "1521  State  Alabama       All  2018-19     1          6.1   \n",
      "1522  State  Alabama       All  2018-19     2          7.0   \n",
      "1523  State  Alabama       All  2018-19     3          8.1   \n",
      "1524  State  Alabama       All  2018-19     4          6.0   \n",
      "1525  State  Alabama       All  2018-19     5          6.5   \n",
      "1526  State  Alabama       All  2018-19     6          7.0   \n",
      "1527  State  Alabama       All  2018-19     7          6.4   \n",
      "1528  State  Alabama       All  2018-19     8          4.7   \n",
      "1529  State  Alabama       All  2018-19     9          7.2   \n",
      "1530  State  Alabama       All  2018-19    10          5.8   \n",
      "1531  State  Alabama       All  2018-19    11          5.6   \n",
      "1532  State  Alabama       All  2018-19    12          5.5   \n",
      "1533  State  Alabama       All  2018-19    13          6.0   \n",
      "1534  State  Alabama       All  2018-19    14          6.0   \n",
      "1535  State  Alabama       All  2018-19    15          5.8   \n",
      "4225  State  Alabama       All  2017-18     1          9.1   \n",
      "4226  State  Alabama       All  2017-18     2          9.3   \n",
      "4227  State  Alabama       All  2017-18     3         10.7   \n",
      "4228  State  Alabama       All  2017-18     4         12.3   \n",
      "4229  State  Alabama       All  2017-18     5         11.1   \n",
      "4230  State  Alabama       All  2017-18     6          8.4   \n",
      "4231  State  Alabama       All  2017-18     7         10.1   \n",
      "4232  State  Alabama       All  2017-18     8          7.3   \n",
      "4233  State  Alabama       All  2017-18     9          7.1   \n",
      "4234  State  Alabama       All  2017-18    10          7.2   \n",
      "4235  State  Alabama       All  2017-18    11          6.3   \n",
      "4236  State  Alabama       All  2017-18    12          4.6   \n",
      "4237  State  Alabama       All  2017-18    13          6.5   \n",
      "4238  State  Alabama       All  2017-18    14          5.4   \n",
      "4239  State  Alabama       All  2017-18    15          5.8   \n",
      "\n",
      "      NUM INFLUENZA DEATHS  NUM PNEUMONIA DEATHS  TOTAL DEATHS  \\\n",
      "13                     5.0                  67.0           NaN   \n",
      "14                     9.0                  83.0           NaN   \n",
      "15                     7.0                  63.0           NaN   \n",
      "16                     7.0                  67.0           NaN   \n",
      "17                    15.0                  54.0           NaN   \n",
      "18                    11.0                  64.0           NaN   \n",
      "19                     7.0                  78.0           NaN   \n",
      "20                     4.0                  74.0           NaN   \n",
      "21                    14.0                  68.0           NaN   \n",
      "22                    12.0                  58.0           NaN   \n",
      "23                     6.0                  54.0           NaN   \n",
      "24                     6.0                  71.0         995.0   \n",
      "25                     8.0                  67.0         952.0   \n",
      "26                     4.0                  59.0         970.0   \n",
      "27                     3.0                  56.0         779.0   \n",
      "1521                   7.0                  60.0           NaN   \n",
      "1522                   7.0                  71.0           NaN   \n",
      "1523                   2.0                  91.0           NaN   \n",
      "1524                   2.0                  63.0           NaN   \n",
      "1525                   1.0                  71.0           NaN   \n",
      "1526                   9.0                  68.0           NaN   \n",
      "1527                  11.0                  60.0           NaN   \n",
      "1528                   6.0                  45.0           NaN   \n",
      "1529                   8.0                  69.0           NaN   \n",
      "1530                   4.0                  59.0           NaN   \n",
      "1531                   5.0                  57.0           NaN   \n",
      "1532                   4.0                  53.0           NaN   \n",
      "1533                   3.0                  62.0           NaN   \n",
      "1534                   1.0                  62.0           NaN   \n",
      "1535                   1.0                  60.0           NaN   \n",
      "4225                  16.0                  98.0           NaN   \n",
      "4226                  22.0                 102.0           NaN   \n",
      "4227                  41.0                  98.0           NaN   \n",
      "4228                  39.0                 124.0           NaN   \n",
      "4229                  31.0                  99.0           NaN   \n",
      "4230                  24.0                  77.0           NaN   \n",
      "4231                  16.0                  98.0           NaN   \n",
      "4232                   6.0                  76.0           NaN   \n",
      "4233                   7.0                  64.0           NaN   \n",
      "4234                   3.0                  75.0           NaN   \n",
      "4235                   3.0                  66.0           NaN   \n",
      "4236                   1.0                  46.0           NaN   \n",
      "4237                   1.0                  64.0           NaN   \n",
      "4238                   1.0                  55.0           NaN   \n",
      "4239                   1.0                  60.0           NaN   \n",
      "\n",
      "      PERCENT COMPLETE  \n",
      "13                 NaN  \n",
      "14                 NaN  \n",
      "15                 NaN  \n",
      "16                 NaN  \n",
      "17                 NaN  \n",
      "18                 NaN  \n",
      "19                 NaN  \n",
      "20                 NaN  \n",
      "21                 NaN  \n",
      "22                 NaN  \n",
      "23                 NaN  \n",
      "24                 NaN  \n",
      "25                 NaN  \n",
      "26                 NaN  \n",
      "27                 NaN  \n",
      "1521               NaN  \n",
      "1522               NaN  \n",
      "1523               NaN  \n",
      "1524               NaN  \n",
      "1525               NaN  \n",
      "1526               NaN  \n",
      "1527               NaN  \n",
      "1528               NaN  \n",
      "1529               NaN  \n",
      "1530               NaN  \n",
      "1531               NaN  \n",
      "1532               NaN  \n",
      "1533               NaN  \n",
      "1534               NaN  \n",
      "1535               NaN  \n",
      "4225               NaN  \n",
      "4226               NaN  \n",
      "4227               NaN  \n",
      "4228               NaN  \n",
      "4229               NaN  \n",
      "4230               NaN  \n",
      "4231               NaN  \n",
      "4232               NaN  \n",
      "4233               NaN  \n",
      "4234               NaN  \n",
      "4235               NaN  \n",
      "4236               NaN  \n",
      "4237               NaN  \n",
      "4238               NaN  \n",
      "4239               NaN  \n"
     ]
    }
   ],
   "source": [
    "for j in sub_areas[0:1]:\n",
    "    for k in seasons:\n",
    "        whr = c[(c['SUB AREA'] == j) & (c['SEASON'].str.endswith(k[:-5]))]\n"
   ]
  },
  {
   "cell_type": "code",
   "execution_count": 11,
   "metadata": {},
   "outputs": [],
   "source": []
  },
  {
   "cell_type": "code",
   "execution_count": 18,
   "metadata": {},
   "outputs": [
    {
     "data": {
      "text/html": [
       "<div>\n",
       "<style scoped>\n",
       "    .dataframe tbody tr th:only-of-type {\n",
       "        vertical-align: middle;\n",
       "    }\n",
       "\n",
       "    .dataframe tbody tr th {\n",
       "        vertical-align: top;\n",
       "    }\n",
       "\n",
       "    .dataframe thead th {\n",
       "        text-align: right;\n",
       "    }\n",
       "</style>\n",
       "<table border=\"1\" class=\"dataframe\">\n",
       "  <thead>\n",
       "    <tr style=\"text-align: right;\">\n",
       "      <th></th>\n",
       "      <th>AREA</th>\n",
       "      <th>SUB AREA</th>\n",
       "      <th>AGE GROUP</th>\n",
       "      <th>SEASON</th>\n",
       "      <th>WEEK</th>\n",
       "      <th>PERCENT P&amp;I</th>\n",
       "      <th>NUM INFLUENZA DEATHS</th>\n",
       "      <th>NUM PNEUMONIA DEATHS</th>\n",
       "      <th>TOTAL DEATHS</th>\n",
       "      <th>PERCENT COMPLETE</th>\n",
       "    </tr>\n",
       "  </thead>\n",
       "  <tbody>\n",
       "    <tr>\n",
       "      <th>5847</th>\n",
       "      <td>State</td>\n",
       "      <td>New Mexico</td>\n",
       "      <td>All</td>\n",
       "      <td>2017-18</td>\n",
       "      <td>11</td>\n",
       "      <td>9.4</td>\n",
       "      <td>3</td>\n",
       "      <td>32</td>\n",
       "      <td>371</td>\n",
       "      <td>&gt; 100%</td>\n",
       "    </tr>\n",
       "    <tr>\n",
       "      <th>5848</th>\n",
       "      <td>State</td>\n",
       "      <td>New Mexico</td>\n",
       "      <td>All</td>\n",
       "      <td>2017-18</td>\n",
       "      <td>12</td>\n",
       "      <td>5.0</td>\n",
       "      <td>2</td>\n",
       "      <td>17</td>\n",
       "      <td>381</td>\n",
       "      <td>&gt; 100%</td>\n",
       "    </tr>\n",
       "    <tr>\n",
       "      <th>5849</th>\n",
       "      <td>State</td>\n",
       "      <td>New Mexico</td>\n",
       "      <td>All</td>\n",
       "      <td>2017-18</td>\n",
       "      <td>13</td>\n",
       "      <td>7.8</td>\n",
       "      <td>0</td>\n",
       "      <td>28</td>\n",
       "      <td>361</td>\n",
       "      <td>&gt; 100%</td>\n",
       "    </tr>\n",
       "    <tr>\n",
       "      <th>5850</th>\n",
       "      <td>State</td>\n",
       "      <td>New Mexico</td>\n",
       "      <td>All</td>\n",
       "      <td>2017-18</td>\n",
       "      <td>14</td>\n",
       "      <td>5.0</td>\n",
       "      <td>0</td>\n",
       "      <td>19</td>\n",
       "      <td>380</td>\n",
       "      <td>&gt; 100%</td>\n",
       "    </tr>\n",
       "    <tr>\n",
       "      <th>5889</th>\n",
       "      <td>State</td>\n",
       "      <td>New York</td>\n",
       "      <td>All</td>\n",
       "      <td>2017-18</td>\n",
       "      <td>1</td>\n",
       "      <td>9.9</td>\n",
       "      <td>22</td>\n",
       "      <td>209</td>\n",
       "      <td>2,329</td>\n",
       "      <td>&gt; 100%</td>\n",
       "    </tr>\n",
       "    <tr>\n",
       "      <th>5890</th>\n",
       "      <td>State</td>\n",
       "      <td>New York</td>\n",
       "      <td>All</td>\n",
       "      <td>2017-18</td>\n",
       "      <td>2</td>\n",
       "      <td>9.8</td>\n",
       "      <td>23</td>\n",
       "      <td>222</td>\n",
       "      <td>2,493</td>\n",
       "      <td>&gt; 100%</td>\n",
       "    </tr>\n",
       "    <tr>\n",
       "      <th>5891</th>\n",
       "      <td>State</td>\n",
       "      <td>New York</td>\n",
       "      <td>All</td>\n",
       "      <td>2017-18</td>\n",
       "      <td>3</td>\n",
       "      <td>12.5</td>\n",
       "      <td>42</td>\n",
       "      <td>243</td>\n",
       "      <td>2,279</td>\n",
       "      <td>&gt; 100%</td>\n",
       "    </tr>\n",
       "    <tr>\n",
       "      <th>5892</th>\n",
       "      <td>State</td>\n",
       "      <td>New York</td>\n",
       "      <td>All</td>\n",
       "      <td>2017-18</td>\n",
       "      <td>4</td>\n",
       "      <td>12.9</td>\n",
       "      <td>63</td>\n",
       "      <td>223</td>\n",
       "      <td>2,211</td>\n",
       "      <td>&gt; 100%</td>\n",
       "    </tr>\n",
       "    <tr>\n",
       "      <th>5893</th>\n",
       "      <td>State</td>\n",
       "      <td>New York</td>\n",
       "      <td>All</td>\n",
       "      <td>2017-18</td>\n",
       "      <td>5</td>\n",
       "      <td>11.0</td>\n",
       "      <td>36</td>\n",
       "      <td>206</td>\n",
       "      <td>2,206</td>\n",
       "      <td>&gt; 100%</td>\n",
       "    </tr>\n",
       "    <tr>\n",
       "      <th>5894</th>\n",
       "      <td>State</td>\n",
       "      <td>New York</td>\n",
       "      <td>All</td>\n",
       "      <td>2017-18</td>\n",
       "      <td>6</td>\n",
       "      <td>11.1</td>\n",
       "      <td>52</td>\n",
       "      <td>196</td>\n",
       "      <td>2,233</td>\n",
       "      <td>&gt; 100%</td>\n",
       "    </tr>\n",
       "  </tbody>\n",
       "</table>\n",
       "</div>"
      ],
      "text/plain": [
       "       AREA    SUB AREA AGE GROUP   SEASON  WEEK  PERCENT P&I  \\\n",
       "5847  State  New Mexico       All  2017-18    11          9.4   \n",
       "5848  State  New Mexico       All  2017-18    12          5.0   \n",
       "5849  State  New Mexico       All  2017-18    13          7.8   \n",
       "5850  State  New Mexico       All  2017-18    14          5.0   \n",
       "5889  State    New York       All  2017-18     1          9.9   \n",
       "5890  State    New York       All  2017-18     2          9.8   \n",
       "5891  State    New York       All  2017-18     3         12.5   \n",
       "5892  State    New York       All  2017-18     4         12.9   \n",
       "5893  State    New York       All  2017-18     5         11.0   \n",
       "5894  State    New York       All  2017-18     6         11.1   \n",
       "\n",
       "     NUM INFLUENZA DEATHS NUM PNEUMONIA DEATHS TOTAL DEATHS PERCENT COMPLETE  \n",
       "5847                    3                   32          371           > 100%  \n",
       "5848                    2                   17          381           > 100%  \n",
       "5849                    0                   28          361           > 100%  \n",
       "5850                    0                   19          380           > 100%  \n",
       "5889                   22                  209        2,329           > 100%  \n",
       "5890                   23                  222        2,493           > 100%  \n",
       "5891                   42                  243        2,279           > 100%  \n",
       "5892                   63                  223        2,211           > 100%  \n",
       "5893                   36                  206        2,206           > 100%  \n",
       "5894                   52                  196        2,233           > 100%  "
      ]
     },
     "execution_count": 18,
     "metadata": {},
     "output_type": "execute_result"
    }
   ],
   "source": [
    "x[1900:1910]"
   ]
  }
 ],
 "metadata": {
  "kernelspec": {
   "display_name": "Python 3",
   "language": "python",
   "name": "python3"
  },
  "language_info": {
   "codemirror_mode": {
    "name": "ipython",
    "version": 3
   },
   "file_extension": ".py",
   "mimetype": "text/x-python",
   "name": "python",
   "nbconvert_exporter": "python",
   "pygments_lexer": "ipython3",
   "version": "3.6.10"
  },
  "toc": {
   "base_numbering": 1,
   "nav_menu": {},
   "number_sections": true,
   "sideBar": true,
   "skip_h1_title": false,
   "title_cell": "Table of Contents",
   "title_sidebar": "Contents",
   "toc_cell": false,
   "toc_position": {},
   "toc_section_display": true,
   "toc_window_display": false
  },
  "varInspector": {
   "cols": {
    "lenName": 16,
    "lenType": 16,
    "lenVar": 40
   },
   "kernels_config": {
    "python": {
     "delete_cmd_postfix": "",
     "delete_cmd_prefix": "del ",
     "library": "var_list.py",
     "varRefreshCmd": "print(var_dic_list())"
    },
    "r": {
     "delete_cmd_postfix": ") ",
     "delete_cmd_prefix": "rm(",
     "library": "var_list.r",
     "varRefreshCmd": "cat(var_dic_list()) "
    }
   },
   "position": {
    "height": "384.5px",
    "left": "1121px",
    "right": "20px",
    "top": "120px",
    "width": "359px"
   },
   "types_to_exclude": [
    "module",
    "function",
    "builtin_function_or_method",
    "instance",
    "_Feature"
   ],
   "window_display": false
  }
 },
 "nbformat": 4,
 "nbformat_minor": 4
}
